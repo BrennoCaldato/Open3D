{
 "cells": [
  {
   "cell_type": "code",
   "execution_count": null,
   "metadata": {
    "nbsphinx": "hidden"
   },
   "outputs": [],
   "source": [
    "import open3d as o3d\n",
    "import numpy as np\n",
    "import copy\n",
    "import os\n",
    "import sys\n",
    "\n",
    "# monkey patches visualization and provides helpers to load geometries\n",
    "sys.path.append('..')\n",
    "import open3d_tutorial as o3dtut\n",
    "# change to True if you want to interact with the visualization windows\n",
    "o3dtut.interactive = not \"CI\" in os.environ"
   ]
  },
  {
   "cell_type": "markdown",
   "metadata": {},
   "source": [
    "# Generalized ICP Registration\n",
    "This tutorial demonstrates an ICP variant that combine the  [Point-to-plane ICP](../pipelines/icp_registration.ipynb#Point-to-plane-ICP) and [Point-to-point ICP](../pipelines/icp_registration.ipynb#Point-to-point-ICP)  algorithms into a single probabilistic framework. It implements the algorithm of [\\[Segal2009\\]](../reference.html#segal2009). \n",
    "\n",
    "The framework was originally used to model locally planar surface structure from both scans instead of just the model scan as is typically done with the point-to-plane method. This can be thought of as plane-to-plane, but, as its name suggests it can be extended to account for other types of approximations. On the original publication it's shown that both  [Point-to-plane ICP](../pipelines/icp_registration.ipynb#Point-to-plane-ICP) and [Point-to-point ICP](../pipelines/icp_registration.ipynb#Point-to-point-ICP) are special cases of the Generalized-icp framework."
   ]
  },
  {
   "cell_type": "markdown",
   "metadata": {},
   "source": [
    "<div class=\"alert alert-info\">\n",
    " \n",
    "**Note:** \n",
    "\n",
    "This tutorial and the implementation of the Generalized ICP algorithm in `Open3D` was contributed by **Ignacio Vizzo** and **Cyrill Stachniss** from the University of Bonn.\n",
    "\n",
    "</div>"
   ]
  },
  {
   "cell_type": "markdown",
   "metadata": {},
   "source": [
    "## Helper visualization function\n",
    "The function below visualizes a target point cloud and a source point cloud transformed with an alignment transformation. The target point cloud and the source point cloud are painted with red and green colors respectively.\n",
    "Additionally, two line sets are added to the visualization to show the \"GT\" surface where the points were sampled"
   ]
  },
  {
   "cell_type": "code",
   "execution_count": null,
   "metadata": {},
   "outputs": [],
   "source": [
    "def draw_registration_result(source, target, transformation):\n",
    "    source_temp = copy.deepcopy(source)\n",
    "    target_temp = copy.deepcopy(target)\n",
    "    source_temp.transform(transformation)\n",
    "    # Add lines\n",
    "    split = len(source.points) // 2\n",
    "    lines = [[0, split], [2 * split, 0]]\n",
    "    source_line = o3d.geometry.LineSet(\n",
    "        points=source_temp.points,\n",
    "        lines=o3d.utility.Vector2iVector(lines),\n",
    "    )\n",
    "    target_line = o3d.geometry.LineSet(\n",
    "        points=target_temp.points,\n",
    "        lines=o3d.utility.Vector2iVector(lines),\n",
    "    )\n",
    "    # Paint geometries\n",
    "    source_temp.paint_uniform_color([1, 0, 0])\n",
    "    source_line.paint_uniform_color([1, 0, 0])\n",
    "    target_line.paint_uniform_color([0, 1, 0])\n",
    "    target_temp.paint_uniform_color([0, 1, 0])\n",
    "    o3d.visualization.draw_geometries(\n",
    "        [source_temp, source_line, target_temp, target_line],\n",
    "        point_show_normal=True,\n",
    "        front=[0.0, 0.0, 1.0],\n",
    "        lookat=[1.13, -0.06, 0.0],\n",
    "        up=[0.0, 1.0, 0.0],\n",
    "        zoom=1.14)"
   ]
  },
  {
   "cell_type": "markdown",
   "metadata": {},
   "source": [
    "## Input\n",
    "\n",
    "To best show the application of `Generalized-icp` we will use the same example shown in `Fig. 1.` on the original paper of [\\[Segal2009\\]](../reference.html#segal2009).\n",
    "\n",
    "For simplification we stick to the `2D` example"
   ]
  },
  {
   "cell_type": "code",
   "execution_count": null,
   "metadata": {},
   "outputs": [],
   "source": [
    "print(\"1. Create the same pointclouds shown in the original paper\")\n",
    "points = [\n",
    "    [0.0, 0.0, 0.0],\n",
    "    [1.0, 0.0, 0.0],\n",
    "    [2.0, 0.0, 0.0],\n",
    "    [0.0, 1.0, 0.0],\n",
    "    [0.0, 2.0, 0.0],\n",
    "]\n",
    "\n",
    "normals = [\n",
    "    [1.0, 1.0, 0.0],\n",
    "    [0.0, 1.0, 0.0],\n",
    "    [0.0, 1.0, 0.0],\n",
    "    [1.0, 0.0, 0.0],\n",
    "    [1.0, 0.0, 0.0],\n",
    "]\n",
    "source = o3d.geometry.PointCloud()\n",
    "source.points = o3d.utility.Vector3dVector(points)\n",
    "source.normals = o3d.utility.Vector3dVector(normals)\n",
    "target = copy.deepcopy(source)\n",
    "target.translate([+1.0, -2.0, 0.0])\n",
    "\n",
    "# draw initial alignment\n",
    "current_transformation = np.identity(4)\n",
    "draw_registration_result(source, target, current_transformation)"
   ]
  },
  {
   "cell_type": "markdown",
   "metadata": {},
   "source": [
    "## Distance Threshold\n",
    "\n",
    "To ilustrate the greater convergence rate of the Generalized-icp algorithm we choose a high distance threshold.  When this threshold is big enough, then the \"corner\" point will get the wrong correspondence when using traditional ICP methods and will produce a wrong result.\n",
    "\n",
    "Be aware that if you pick a small distance threshold (like `2.0`) then, the \"corner\" point of the example won't be associated initially to any point and thus you will converge to the right solution."
   ]
  },
  {
   "cell_type": "code",
   "execution_count": null,
   "metadata": {},
   "outputs": [],
   "source": [
    "distance_th = 3.0"
   ]
  },
  {
   "cell_type": "markdown",
   "metadata": {},
   "source": [
    "## Point-to-point ICP\n",
    "We first run [Point-to-point ICP](../pipelines/icp_registration.ipynb#Point-to-point-ICP) as a baseline approach. Due the \"corner\" point we end up with a bad aligment result."
   ]
  },
  {
   "cell_type": "code",
   "execution_count": null,
   "metadata": {},
   "outputs": [],
   "source": [
    "# point to point ICP\n",
    "current_transformation = np.identity(4)\n",
    "print(\"2. Point-to-point ICP registration is applied on original point\")\n",
    "print(\"   clouds to refine the alignment.\")\n",
    "p2p_result_icp = o3d.pipelines.registration.registration_icp(\n",
    "    source, target, distance_th, current_transformation,\n",
    "    o3d.pipelines.registration.TransformationEstimationPointToPoint())\n",
    "print(p2p_result_icp)\n",
    "draw_registration_result(source, target, p2p_result_icp.transformation)"
   ]
  },
  {
   "cell_type": "markdown",
   "metadata": {},
   "source": [
    "## Point-to-plane ICP\n",
    "We first run [Point-to-plane ICP](../pipelines/icp_registration.ipynb#Point-to-plane-ICP) as a baseline approach. Due the \"corner\" point we end up with a bad aligment result."
   ]
  },
  {
   "cell_type": "code",
   "execution_count": null,
   "metadata": {},
   "outputs": [],
   "source": [
    "# point to plane ICP\n",
    "current_transformation = np.identity(4)\n",
    "print(\"3. Point-to-plane ICP registration is applied on original point\")\n",
    "print(\"   clouds to refine the alignment.\")\n",
    "p2l_result_icp = o3d.pipelines.registration.registration_icp(\n",
    "    source, target, distance_th, current_transformation,\n",
    "    o3d.pipelines.registration.TransformationEstimationPointToPlane())\n",
    "print(p2l_result_icp)\n",
    "draw_registration_result(source, target, p2l_result_icp.transformation)"
   ]
  },
  {
   "cell_type": "markdown",
   "metadata": {},
   "source": [
    "## Plane-to-plane ICP (Generalized ICP)\n",
    "\n",
    "We now show how the `Plane-to-plane` registration scheme converge to the right solution under the same assumptions and the same registration parameters"
   ]
  },
  {
   "cell_type": "code",
   "execution_count": null,
   "metadata": {},
   "outputs": [],
   "source": [
    "# Generelized ICP\n",
    "current_transformation = np.identity(4)\n",
    "print(\"4. Generalized ICP registration is applied on original point\")\n",
    "print(\"   clouds to refine the alignment.\")\n",
    "result_icp = o3d.pipelines.registration.registration_generalized_icp(\n",
    "    source, target, distance_th, current_transformation)\n",
    "print(result_icp)\n",
    "draw_registration_result(source, target, result_icp.transformation)"
   ]
  },
  {
   "cell_type": "markdown",
   "metadata": {},
   "source": [
    "## Point Covariance Estimation\n",
    "\n",
    "You can go as wild as you wish. The `registration_generalized_icp` implementation will compute the per-point covariance matrices following the original paper descriptions(and thus, running a Plane-to-plane scheme) but you are not restricted to it. You can compute the covariances using your favorite algorithm and then call the `registration_generalized_icp` function\n",
    "\n",
    "In this case we will show that the `Point-to-point ICP` is an specific case of the Generalized-icp following equation (3) of the original paper"
   ]
  },
  {
   "cell_type": "code",
   "execution_count": null,
   "metadata": {},
   "outputs": [],
   "source": [
    "# You can use any 3x3 matrix here, or compute it from the input data\n",
    "source_covariances = [\n",
    "    np.zeros((3, 3)),\n",
    "    np.zeros((3, 3)),\n",
    "    np.zeros((3, 3)),\n",
    "    np.zeros((3, 3)),\n",
    "    np.zeros((3, 3)),\n",
    "]\n",
    "target_covariances = [\n",
    "    np.eye(3),\n",
    "    np.eye(3),\n",
    "    np.eye(3),\n",
    "    np.eye(3),\n",
    "    np.eye(3),\n",
    "]\n",
    "source_c = copy.deepcopy(source)\n",
    "source_c.covariances = o3d.utility.Matrix3dVector(source_covariances)\n",
    "\n",
    "target_c = copy.deepcopy(target)\n",
    "target_c.covariances = o3d.utility.Matrix3dVector(target_covariances)\n",
    "print(\"Source has covariances:\", source_c.has_covariances())\n",
    "print(\"Target has covariances:\", target_c.has_covariances())"
   ]
  },
  {
   "cell_type": "code",
   "execution_count": null,
   "metadata": {},
   "outputs": [],
   "source": [
    "current_transformation = np.identity(4)\n",
    "print(\n",
    "    \"5. Generalized ICP, Point-to-point registration is applied on original point\"\n",
    ")\n",
    "print(\"   clouds to refine the alignment.\")\n",
    "gicp_p2p_result_icp = o3d.pipelines.registration.registration_generalized_icp(\n",
    "    source_c, target_c, distance_th, current_transformation)\n",
    "draw_registration_result(source, target, gicp_p2p_result_icp.transformation)\n",
    "\n",
    "print(\"Original Point-to-point results:\\n\", p2p_result_icp)\n",
    "print(\"Generalized ICP Point-to-point results:\\n\", gicp_p2p_result_icp)"
   ]
  }
 ],
 "metadata": {
  "celltoolbar": "Edit Metadata",
  "hide_input": false,
  "kernelspec": {
   "display_name": "Python 3",
   "language": "python",
   "name": "python3"
  },
  "language_info": {
   "codemirror_mode": {
    "name": "ipython",
    "version": 3
   },
   "file_extension": ".py",
   "mimetype": "text/x-python",
   "name": "python",
   "nbconvert_exporter": "python",
   "pygments_lexer": "ipython3",
   "version": "3.8.5"
  },
  "toc": {
   "base_numbering": 1,
   "nav_menu": {},
   "number_sections": false,
   "sideBar": true,
   "skip_h1_title": true,
   "title_cell": "Table of Contents",
   "title_sidebar": "Contents",
   "toc_cell": false,
   "toc_position": {},
   "toc_section_display": true,
   "toc_window_display": false
  }
 },
 "nbformat": 4,
 "nbformat_minor": 2
}
